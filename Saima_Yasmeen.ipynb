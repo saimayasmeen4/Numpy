{
  "nbformat": 4,
  "nbformat_minor": 0,
  "metadata": {
    "kernelspec": {
      "display_name": "Python 3",
      "language": "python",
      "name": "python3"
    },
    "language_info": {
      "codemirror_mode": {
        "name": "ipython",
        "version": 3
      },
      "file_extension": ".py",
      "mimetype": "text/x-python",
      "name": "python",
      "nbconvert_exporter": "python",
      "pygments_lexer": "ipython3",
      "version": "3.8.3"
    },
    "colab": {
      "name": "Saima Yasmeen.ipynb",
      "provenance": []
    }
  },
  "cells": [
    {
      "cell_type": "code",
      "metadata": {
        "id": "TYGDSvDoLsdm"
      },
      "source": [
        "import numpy as np\n",
        "x = np.array([5,10, 1,11, 9, 8, 7])"
      ],
      "execution_count": 4,
      "outputs": []
    },
    {
      "cell_type": "code",
      "metadata": {
        "colab": {
          "base_uri": "https://localhost:8080/"
        },
        "id": "bf6L2dzHLsdq",
        "outputId": "1e8973b6-e7ab-4161-adea-ad6fab77c546"
      },
      "source": [
        "#Method 1: Sum of all the elements of an array\n",
        "x.sum()"
      ],
      "execution_count": 5,
      "outputs": [
        {
          "output_type": "execute_result",
          "data": {
            "text/plain": [
              "51"
            ]
          },
          "metadata": {
            "tags": []
          },
          "execution_count": 5
        }
      ]
    },
    {
      "cell_type": "code",
      "metadata": {
        "colab": {
          "base_uri": "https://localhost:8080/"
        },
        "id": "Oru6Lds8Lsds",
        "outputId": "62cde8c7-5e05-4a6c-91a1-a482e4a55375"
      },
      "source": [
        "#Method 2: Minimum value among the elements of an array\n",
        "x.min()"
      ],
      "execution_count": 7,
      "outputs": [
        {
          "output_type": "execute_result",
          "data": {
            "text/plain": [
              "1"
            ]
          },
          "metadata": {
            "tags": []
          },
          "execution_count": 7
        }
      ]
    },
    {
      "cell_type": "code",
      "metadata": {
        "colab": {
          "base_uri": "https://localhost:8080/"
        },
        "id": "jI_1WdhMLsds",
        "outputId": "489e1f3a-d70c-4b1b-ccd2-a71eda377339"
      },
      "source": [
        "#Method 3: Maximum value among the elements of an array\n",
        "x.max()"
      ],
      "execution_count": 8,
      "outputs": [
        {
          "output_type": "execute_result",
          "data": {
            "text/plain": [
              "11"
            ]
          },
          "metadata": {
            "tags": []
          },
          "execution_count": 8
        }
      ]
    },
    {
      "cell_type": "code",
      "metadata": {
        "colab": {
          "base_uri": "https://localhost:8080/"
        },
        "id": "1IhskVYbLsdt",
        "outputId": "e9b6ea5b-467e-4cf8-b6e4-249acfd9d093"
      },
      "source": [
        "#Method 4: Minimum index value among the indexes of elements of an array\n",
        "x.argmin()"
      ],
      "execution_count": 9,
      "outputs": [
        {
          "output_type": "execute_result",
          "data": {
            "text/plain": [
              "2"
            ]
          },
          "metadata": {
            "tags": []
          },
          "execution_count": 9
        }
      ]
    },
    {
      "cell_type": "code",
      "metadata": {
        "colab": {
          "base_uri": "https://localhost:8080/"
        },
        "id": "TVhoT6fPLsdu",
        "outputId": "e8829ebd-fc2b-4753-a12b-2b74daa7ce40"
      },
      "source": [
        "#Method 5: Minimum index value among the indexes of elements of an array\n",
        "x.argmax()"
      ],
      "execution_count": 10,
      "outputs": [
        {
          "output_type": "execute_result",
          "data": {
            "text/plain": [
              "3"
            ]
          },
          "metadata": {
            "tags": []
          },
          "execution_count": 10
        }
      ]
    },
    {
      "cell_type": "code",
      "metadata": {
        "colab": {
          "base_uri": "https://localhost:8080/"
        },
        "id": "BUNdk7z4Lsdu",
        "outputId": "49d1ff04-e982-4aa2-9319-7169f61e70c5"
      },
      "source": [
        "#Mehthod 6: Logical \"AND\" operation among the elements of a boolean array\n",
        "np.all([False, True, True, True])"
      ],
      "execution_count": 11,
      "outputs": [
        {
          "output_type": "execute_result",
          "data": {
            "text/plain": [
              "False"
            ]
          },
          "metadata": {
            "tags": []
          },
          "execution_count": 11
        }
      ]
    },
    {
      "cell_type": "code",
      "metadata": {
        "colab": {
          "base_uri": "https://localhost:8080/"
        },
        "id": "QoWEUBtTLsdv",
        "outputId": "6151b4b8-4d6f-4176-f814-d96dc4f4c22d"
      },
      "source": [
        "#Mehthod 7: Logical \"OR\" operation among the elements of a boolean array\n",
        "np.any([True, True, True, False])"
      ],
      "execution_count": 12,
      "outputs": [
        {
          "output_type": "execute_result",
          "data": {
            "text/plain": [
              "True"
            ]
          },
          "metadata": {
            "tags": []
          },
          "execution_count": 12
        }
      ]
    },
    {
      "cell_type": "code",
      "metadata": {
        "colab": {
          "base_uri": "https://localhost:8080/"
        },
        "id": "oMyYIxBtLsdv",
        "outputId": "2d2fac59-0f80-45d2-cc61-c10e9143649a"
      },
      "source": [
        "#Method 8: Setting all the elements of an array to 0\n",
        "a = np.zeros((100, 100))\n",
        "np.any(a != 0)"
      ],
      "execution_count": 13,
      "outputs": [
        {
          "output_type": "execute_result",
          "data": {
            "text/plain": [
              "False"
            ]
          },
          "metadata": {
            "tags": []
          },
          "execution_count": 13
        }
      ]
    },
    {
      "cell_type": "code",
      "metadata": {
        "colab": {
          "base_uri": "https://localhost:8080/"
        },
        "id": "TIdvTOC3Lsdv",
        "outputId": "d3996912-45b1-413c-f26b-2aae20e345d1"
      },
      "source": [
        "np.all(a == a)"
      ],
      "execution_count": 14,
      "outputs": [
        {
          "output_type": "execute_result",
          "data": {
            "text/plain": [
              "True"
            ]
          },
          "metadata": {
            "tags": []
          },
          "execution_count": 14
        }
      ]
    },
    {
      "cell_type": "code",
      "metadata": {
        "colab": {
          "base_uri": "https://localhost:8080/"
        },
        "id": "1Ctjczb6Lsdw",
        "outputId": "fd0995f1-ff75-4044-bbc9-d933158c3d29"
      },
      "source": [
        "a = np.array([5, 2, 3, 2])\n",
        "b = np.array([5, 2, 3, 2])\n",
        "c = np.array([5, 4, 4, 5])\n",
        "((a <= b) & (b <= c)).all()"
      ],
      "execution_count": 16,
      "outputs": [
        {
          "output_type": "execute_result",
          "data": {
            "text/plain": [
              "True"
            ]
          },
          "metadata": {
            "tags": []
          },
          "execution_count": 16
        }
      ]
    },
    {
      "cell_type": "code",
      "metadata": {
        "colab": {
          "base_uri": "https://localhost:8080/"
        },
        "id": "RBL2MRl5Lsdw",
        "outputId": "74f98b37-10b8-4d98-ef46-aa1201b3c593"
      },
      "source": [
        "#Method 9: Setting diagonally all elements as \"1\" in a square matrix\n",
        "arr = np.eye(3)\n",
        "arr"
      ],
      "execution_count": 17,
      "outputs": [
        {
          "output_type": "execute_result",
          "data": {
            "text/plain": [
              "array([[1., 0., 0.],\n",
              "       [0., 1., 0.],\n",
              "       [0., 0., 1.]])"
            ]
          },
          "metadata": {
            "tags": []
          },
          "execution_count": 17
        }
      ]
    },
    {
      "cell_type": "code",
      "metadata": {
        "colab": {
          "base_uri": "https://localhost:8080/"
        },
        "id": "K-8mKIM-Lsdx",
        "outputId": "0245b476-072b-4234-a034-5cc139b9a1ca"
      },
      "source": [
        "#...continues: We can also specify other than square matrix but it would look like as below\n",
        "arr = np.eye(3,4)\n",
        "arr"
      ],
      "execution_count": 18,
      "outputs": [
        {
          "output_type": "execute_result",
          "data": {
            "text/plain": [
              "array([[1., 0., 0., 0.],\n",
              "       [0., 1., 0., 0.],\n",
              "       [0., 0., 1., 0.]])"
            ]
          },
          "metadata": {
            "tags": []
          },
          "execution_count": 18
        }
      ]
    },
    {
      "cell_type": "code",
      "metadata": {
        "colab": {
          "base_uri": "https://localhost:8080/"
        },
        "id": "9JXs9ZsoLsdx",
        "outputId": "98b86c61-c4f3-442d-daa3-2d1d0f73e7b0"
      },
      "source": [
        "#Method 10: diag: This function creates a two dimensional \n",
        "#array with all the diagonal elements as the given value\n",
        "#and rest as 0 (in a square matrix).\n",
        "arr = np.diag([1,5,3,7])\n",
        "arr"
      ],
      "execution_count": 19,
      "outputs": [
        {
          "output_type": "execute_result",
          "data": {
            "text/plain": [
              "array([[1, 0, 0, 0],\n",
              "       [0, 5, 0, 0],\n",
              "       [0, 0, 3, 0],\n",
              "       [0, 0, 0, 7]])"
            ]
          },
          "metadata": {
            "tags": []
          },
          "execution_count": 19
        }
      ]
    },
    {
      "cell_type": "code",
      "metadata": {
        "colab": {
          "base_uri": "https://localhost:8080/"
        },
        "id": "meLA2L3BLsdy",
        "outputId": "7047f881-513a-4e9e-d930-95f5a1a8ce1e"
      },
      "source": [
        "#To get the diagonal elements in a two dimensional array we\n",
        "#use diag as a funcion\n",
        "np.diag(arr)"
      ],
      "execution_count": 20,
      "outputs": [
        {
          "output_type": "execute_result",
          "data": {
            "text/plain": [
              "array([1, 5, 3, 7])"
            ]
          },
          "metadata": {
            "tags": []
          },
          "execution_count": 20
        }
      ]
    },
    {
      "cell_type": "code",
      "metadata": {
        "colab": {
          "base_uri": "https://localhost:8080/"
        },
        "id": "AC3x7o3BLsdy",
        "outputId": "503b5280-4701-4af4-d3ca-0e8c43ad7b1e"
      },
      "source": [
        "#Method 11: randint. This funciton is used to generate random\n",
        "#number between a given range.\n",
        "#The syntax is:\n",
        "#randint(min,max,total_values)\n",
        "arr = np.random.randint(1,10,3)\n",
        "arr\n",
        "#output would be any 3 number from 1 to 9"
      ],
      "execution_count": 21,
      "outputs": [
        {
          "output_type": "execute_result",
          "data": {
            "text/plain": [
              "array([8, 7, 5])"
            ]
          },
          "metadata": {
            "tags": []
          },
          "execution_count": 21
        }
      ]
    },
    {
      "cell_type": "code",
      "metadata": {
        "colab": {
          "base_uri": "https://localhost:8080/"
        },
        "id": "A91h_ns3Lsdy",
        "outputId": "78214686-b9bd-4d6f-c86a-e52cb892f3c0"
      },
      "source": [
        "#Method 12: rand: This function is used to generate random values\n",
        "#between 0 to 1\n",
        "#The syntax is: \n",
        "#rand(number_of_values)\n",
        "arr = np.random.rand(5)\n",
        "arr\n",
        "#Output may be any 5 numbers from 0 to 1"
      ],
      "execution_count": 22,
      "outputs": [
        {
          "output_type": "execute_result",
          "data": {
            "text/plain": [
              "array([0.92268196, 0.71306926, 0.95330691, 0.65967081, 0.34538067])"
            ]
          },
          "metadata": {
            "tags": []
          },
          "execution_count": 22
        }
      ]
    },
    {
      "cell_type": "code",
      "metadata": {
        "colab": {
          "base_uri": "https://localhost:8080/"
        },
        "id": "DqfPfHb_Lsdz",
        "outputId": "ad7afcd3-37a4-4777-f0eb-e15a81d1cf88"
      },
      "source": [
        "#...continues. We may generate random numbers in 2D array format as well\n",
        "arr = np.random.rand(2, 3)\n",
        "arr"
      ],
      "execution_count": 23,
      "outputs": [
        {
          "output_type": "execute_result",
          "data": {
            "text/plain": [
              "array([[0.43860435, 0.25030482, 0.59193519],\n",
              "       [0.13760826, 0.71447948, 0.4699769 ]])"
            ]
          },
          "metadata": {
            "tags": []
          },
          "execution_count": 23
        }
      ]
    },
    {
      "cell_type": "code",
      "metadata": {
        "colab": {
          "base_uri": "https://localhost:8080/"
        },
        "id": "J8CC_cJ8Lsdz",
        "outputId": "812e1c37-fbfe-489e-e94f-09d9dd438e08"
      },
      "source": [
        "#Method 13: randn: This function is used to generate random values to 0 (zero)\n",
        "#This may return positive or negative numbers as well.\n",
        "#The syntax is:\n",
        "#randn(number_of_values)\n",
        "arr = np.random.randn(5)\n",
        "arr\n",
        "#Output may be any 5 numbers from centered to 0 (zero)"
      ],
      "execution_count": 24,
      "outputs": [
        {
          "output_type": "execute_result",
          "data": {
            "text/plain": [
              "array([ 0.11294224,  2.39569284,  0.71543138, -1.10482764,  0.09969354])"
            ]
          },
          "metadata": {
            "tags": []
          },
          "execution_count": 24
        }
      ]
    },
    {
      "cell_type": "code",
      "metadata": {
        "colab": {
          "base_uri": "https://localhost:8080/"
        },
        "id": "bmTOQhn-Lsd0",
        "outputId": "27adc061-d8d6-4e03-f7a5-cbcf333b7d34"
      },
      "source": [
        "#Method 14: arange. There would be a starting point and an ending point along\n",
        "#with the interval value.\n",
        "arr = np.arange(2,15,2)\n",
        "arr"
      ],
      "execution_count": 25,
      "outputs": [
        {
          "output_type": "execute_result",
          "data": {
            "text/plain": [
              "array([ 2,  4,  6,  8, 10, 12, 14])"
            ]
          },
          "metadata": {
            "tags": []
          },
          "execution_count": 25
        }
      ]
    },
    {
      "cell_type": "code",
      "metadata": {
        "colab": {
          "base_uri": "https://localhost:8080/"
        },
        "id": "eDW27LPvLsd0",
        "outputId": "a99f2433-4485-47ff-f49c-11d386b94435"
      },
      "source": [
        "#...continues. If we do not specify the value it will automatically be incremented by 1\n",
        "arr = np.arange(2, 14)\n",
        "arr"
      ],
      "execution_count": 26,
      "outputs": [
        {
          "output_type": "execute_result",
          "data": {
            "text/plain": [
              "array([ 2,  3,  4,  5,  6,  7,  8,  9, 10, 11, 12, 13])"
            ]
          },
          "metadata": {
            "tags": []
          },
          "execution_count": 26
        }
      ]
    },
    {
      "cell_type": "code",
      "metadata": {
        "colab": {
          "base_uri": "https://localhost:8080/"
        },
        "id": "mmVKT7P5Lsd1",
        "outputId": "54cb7d2b-2845-4102-f6f4-511c38dde54f"
      },
      "source": [
        "#Method 15: sin. Print sine of one angle:\n",
        "np.sin(np.pi/2.)"
      ],
      "execution_count": 27,
      "outputs": [
        {
          "output_type": "execute_result",
          "data": {
            "text/plain": [
              "1.0"
            ]
          },
          "metadata": {
            "tags": []
          },
          "execution_count": 27
        }
      ]
    },
    {
      "cell_type": "code",
      "metadata": {
        "colab": {
          "base_uri": "https://localhost:8080/"
        },
        "id": "uk56xpGFLsd1",
        "outputId": "edbf7be9-fd1c-459b-eb7f-6e8f6388257a"
      },
      "source": [
        "#...continues. Print sines of an array of angles given in degrees:\n",
        "np.sin(np.array((0., 30., 45., 60., 90.)) * np.pi / 180. )"
      ],
      "execution_count": 28,
      "outputs": [
        {
          "output_type": "execute_result",
          "data": {
            "text/plain": [
              "array([0.        , 0.5       , 0.70710678, 0.8660254 , 1.        ])"
            ]
          },
          "metadata": {
            "tags": []
          },
          "execution_count": 28
        }
      ]
    },
    {
      "cell_type": "code",
      "metadata": {
        "colab": {
          "base_uri": "https://localhost:8080/"
        },
        "id": "OeHaazjBLsd2",
        "outputId": "25a89c8d-c317-4c9c-bf53-fba5309a367f"
      },
      "source": [
        "#Method 16: cos.\n",
        "np.cos(np.array([0, np.pi/2, np.pi]))"
      ],
      "execution_count": 29,
      "outputs": [
        {
          "output_type": "execute_result",
          "data": {
            "text/plain": [
              "array([ 1.000000e+00,  6.123234e-17, -1.000000e+00])"
            ]
          },
          "metadata": {
            "tags": []
          },
          "execution_count": 29
        }
      ]
    },
    {
      "cell_type": "code",
      "metadata": {
        "colab": {
          "base_uri": "https://localhost:8080/"
        },
        "id": "TVpjQMYbLsd2",
        "outputId": "edf2d251-89ed-416a-b45f-93362f6ec913"
      },
      "source": [
        "#Method 16: tan\n",
        "from math import pi\n",
        "np.tan(np.array([-pi,pi/2,pi]))"
      ],
      "execution_count": 30,
      "outputs": [
        {
          "output_type": "execute_result",
          "data": {
            "text/plain": [
              "array([ 1.22464680e-16,  1.63312394e+16, -1.22464680e-16])"
            ]
          },
          "metadata": {
            "tags": []
          },
          "execution_count": 30
        }
      ]
    },
    {
      "cell_type": "code",
      "metadata": {
        "colab": {
          "base_uri": "https://localhost:8080/"
        },
        "id": "Nuo4kOXaLsd3",
        "outputId": "fe29732b-b3f3-4f87-d8b2-b298080eb89c"
      },
      "source": [
        "#Method 17: round.\n",
        "np.round(16.055, 2), round(16.055, 2)  # equals 16.0549999999999997"
      ],
      "execution_count": 31,
      "outputs": [
        {
          "output_type": "execute_result",
          "data": {
            "text/plain": [
              "(16.06, 16.05)"
            ]
          },
          "metadata": {
            "tags": []
          },
          "execution_count": 31
        }
      ]
    },
    {
      "cell_type": "code",
      "metadata": {
        "colab": {
          "base_uri": "https://localhost:8080/"
        },
        "id": "Q4GBxQM5Lsd3",
        "outputId": "907d6f6b-ec45-4efe-c3ae-010d37806702"
      },
      "source": [
        "#Method 18: floor. Return the floor of the input, element-wise.\n",
        "#The floor of the scalar x is the largest integer i, such that i <= x.\n",
        "a = np.array([-1.2, -1.5, -0.6, 0.9, 1.5, 2.7, 3.0])\n",
        "np.floor(a)"
      ],
      "execution_count": 32,
      "outputs": [
        {
          "output_type": "execute_result",
          "data": {
            "text/plain": [
              "array([-2., -2., -1.,  0.,  1.,  2.,  3.])"
            ]
          },
          "metadata": {
            "tags": []
          },
          "execution_count": 32
        }
      ]
    },
    {
      "cell_type": "code",
      "metadata": {
        "colab": {
          "base_uri": "https://localhost:8080/"
        },
        "id": "7zKpxxq-Lsd4",
        "outputId": "a6728074-b2dd-4629-ccd3-dc91b0fcebb7"
      },
      "source": [
        "#Method 19: ceil. Return the ceiling of the input, element-wise.\n",
        "#The ceil of the scalar x is the smallest integer i, such that i >= x.\n",
        "a = np.array([-1.7, -1.5, -0.2, 0.2, 1.5, 1.7, 2.0])\n",
        "np.ceil(a)"
      ],
      "execution_count": 33,
      "outputs": [
        {
          "output_type": "execute_result",
          "data": {
            "text/plain": [
              "array([-1., -1., -0.,  1.,  2.,  2.,  2.])"
            ]
          },
          "metadata": {
            "tags": []
          },
          "execution_count": 33
        }
      ]
    },
    {
      "cell_type": "code",
      "metadata": {
        "colab": {
          "base_uri": "https://localhost:8080/"
        },
        "id": "dAwozXDjLsd4",
        "outputId": "59160ca8-a20b-46cd-ee14-f1b2c25fc36e"
      },
      "source": [
        "#Method 20:\n",
        "#Return the truncated value of the input, element-wise.\n",
        "#The truncated value of the scalar x is the nearest integer i which is closer to zero than x is. \n",
        "#In short, the fractional part of the signed number x is discarded.\n",
        "a = np.array([-1.7, -1.5, -0.2, 0.2, 1.5, 1.7, 2.0])\n",
        "np.trunc(a)"
      ],
      "execution_count": 34,
      "outputs": [
        {
          "output_type": "execute_result",
          "data": {
            "text/plain": [
              "array([-1., -1., -0.,  0.,  1.,  1.,  2.])"
            ]
          },
          "metadata": {
            "tags": []
          },
          "execution_count": 34
        }
      ]
    },
    {
      "cell_type": "code",
      "metadata": {
        "colab": {
          "base_uri": "https://localhost:8080/"
        },
        "id": "oO5JxtnkLsd4",
        "outputId": "52205351-2873-4408-859e-9ac16184a88e"
      },
      "source": [
        "#Method 21: Prod.\n",
        "#Return the product of array elements over a given axis.\n",
        "#The product of an empty array is the neutral element 1:\n",
        "np.prod([])"
      ],
      "execution_count": 36,
      "outputs": [
        {
          "output_type": "execute_result",
          "data": {
            "text/plain": [
              "1.0"
            ]
          },
          "metadata": {
            "tags": []
          },
          "execution_count": 36
        }
      ]
    },
    {
      "cell_type": "code",
      "metadata": {
        "colab": {
          "base_uri": "https://localhost:8080/"
        },
        "id": "8Q-FxoqjLsd5",
        "outputId": "f0c2fae3-1d5b-4344-bb82-65fea5116f0d"
      },
      "source": [
        "#...continues. when the input array is two-dimensional:\n",
        "np.prod([[4.,2.],[3.,5.]])"
      ],
      "execution_count": 37,
      "outputs": [
        {
          "output_type": "execute_result",
          "data": {
            "text/plain": [
              "120.0"
            ]
          },
          "metadata": {
            "tags": []
          },
          "execution_count": 37
        }
      ]
    },
    {
      "cell_type": "code",
      "metadata": {
        "colab": {
          "base_uri": "https://localhost:8080/"
        },
        "id": "w_PhOzBuLsd5",
        "outputId": "fd94fe7f-34c5-4a27-967c-1df24b9ec496"
      },
      "source": [
        "#Method 22: cumsum. Return the cumulative sum of the elements along a given axis.\n",
        "a = np.array([[1,2,3], [4,5,6]])\n",
        "a"
      ],
      "execution_count": 38,
      "outputs": [
        {
          "output_type": "execute_result",
          "data": {
            "text/plain": [
              "array([[1, 2, 3],\n",
              "       [4, 5, 6]])"
            ]
          },
          "metadata": {
            "tags": []
          },
          "execution_count": 38
        }
      ]
    },
    {
      "cell_type": "code",
      "metadata": {
        "colab": {
          "base_uri": "https://localhost:8080/"
        },
        "id": "CX_zhIHFLsd5",
        "outputId": "40fc04e4-a4ac-4236-8e16-d988dcad5a8d"
      },
      "source": [
        "np.cumsum(a,axis=0)  # sum over rows for each of the 3 columns"
      ],
      "execution_count": 39,
      "outputs": [
        {
          "output_type": "execute_result",
          "data": {
            "text/plain": [
              "array([[1, 2, 3],\n",
              "       [5, 7, 9]])"
            ]
          },
          "metadata": {
            "tags": []
          },
          "execution_count": 39
        }
      ]
    },
    {
      "cell_type": "code",
      "metadata": {
        "colab": {
          "base_uri": "https://localhost:8080/"
        },
        "id": "myTo0G-ZLsd5",
        "outputId": "3fb44b7a-9d65-448b-b7d8-21cd15643c76"
      },
      "source": [
        "#Method 23: lcm. Returns the lowest common multiple of |x1| and |x2|\n",
        "np.lcm(12, 20)"
      ],
      "execution_count": 40,
      "outputs": [
        {
          "output_type": "execute_result",
          "data": {
            "text/plain": [
              "60"
            ]
          },
          "metadata": {
            "tags": []
          },
          "execution_count": 40
        }
      ]
    },
    {
      "cell_type": "code",
      "metadata": {
        "colab": {
          "base_uri": "https://localhost:8080/"
        },
        "id": "ua0Ml9C6Lsd6",
        "outputId": "215a4ca4-95a3-43ef-9984-f817cb3afb39"
      },
      "source": [
        "#Method 24: gcd. Returns the greatest common divisor of |x1| and |x2|\n",
        "np.gcd(8, 24)"
      ],
      "execution_count": 42,
      "outputs": [
        {
          "output_type": "execute_result",
          "data": {
            "text/plain": [
              "8"
            ]
          },
          "metadata": {
            "tags": []
          },
          "execution_count": 42
        }
      ]
    },
    {
      "cell_type": "code",
      "metadata": {
        "colab": {
          "base_uri": "https://localhost:8080/"
        },
        "id": "j4O1mYUwLsd6",
        "outputId": "190f3543-8d6f-46bf-8d19-a2956e065050"
      },
      "source": [
        "#Method 25: transpose. Reverse or permute the axes of an array; returns the modified array\n",
        "x = np.arange(4).reshape((2, 2))\n",
        "x"
      ],
      "execution_count": 46,
      "outputs": [
        {
          "output_type": "execute_result",
          "data": {
            "text/plain": [
              "array([[0, 1],\n",
              "       [2, 3]])"
            ]
          },
          "metadata": {
            "tags": []
          },
          "execution_count": 46
        }
      ]
    },
    {
      "cell_type": "code",
      "metadata": {
        "colab": {
          "base_uri": "https://localhost:8080/"
        },
        "id": "OcT7Zt9RLsd6",
        "outputId": "ad99a1a1-270b-4918-834f-1300fedbc0f2"
      },
      "source": [
        "#...continues\n",
        "np.transpose(x)"
      ],
      "execution_count": 47,
      "outputs": [
        {
          "output_type": "execute_result",
          "data": {
            "text/plain": [
              "array([[0, 2],\n",
              "       [1, 3]])"
            ]
          },
          "metadata": {
            "tags": []
          },
          "execution_count": 47
        }
      ]
    },
    {
      "cell_type": "code",
      "metadata": {
        "colab": {
          "base_uri": "https://localhost:8080/"
        },
        "id": "GG02j7IILsd7",
        "outputId": "348fca9d-8bfd-446f-9397-c57468d78eaa"
      },
      "source": [
        "#Method 26: capitalize. Return a copy of a with only the first character of each element capitalized.\n",
        "c = np.array(['a1b2','1b2a','b2a1','2a1b'],'S4'); c"
      ],
      "execution_count": 48,
      "outputs": [
        {
          "output_type": "execute_result",
          "data": {
            "text/plain": [
              "array([b'a1b2', b'1b2a', b'b2a1', b'2a1b'], dtype='|S4')"
            ]
          },
          "metadata": {
            "tags": []
          },
          "execution_count": 48
        }
      ]
    },
    {
      "cell_type": "code",
      "metadata": {
        "colab": {
          "base_uri": "https://localhost:8080/"
        },
        "id": "ngUsV89tLsd8",
        "outputId": "1ee0a6cf-15fc-48a7-cea3-4c6515deb548"
      },
      "source": [
        "#...continues\n",
        "np.char.capitalize(c)"
      ],
      "execution_count": 49,
      "outputs": [
        {
          "output_type": "execute_result",
          "data": {
            "text/plain": [
              "array([b'A1b2', b'1b2a', b'B2a1', b'2a1b'], dtype='|S4')"
            ]
          },
          "metadata": {
            "tags": []
          },
          "execution_count": 49
        }
      ]
    },
    {
      "cell_type": "code",
      "metadata": {
        "colab": {
          "base_uri": "https://localhost:8080/"
        },
        "id": "BNqJFdH5Lsd8",
        "outputId": "09a8e54f-a0a4-4ad2-8cfc-bb51716e4555"
      },
      "source": [
        "#Method 27. lower. Return an array with the elements converted to lowercase.\n",
        "c = np.array(['A1B C', '1BCA', 'BCA1']) \n",
        "c"
      ],
      "execution_count": 50,
      "outputs": [
        {
          "output_type": "execute_result",
          "data": {
            "text/plain": [
              "array(['A1B C', '1BCA', 'BCA1'], dtype='<U5')"
            ]
          },
          "metadata": {
            "tags": []
          },
          "execution_count": 50
        }
      ]
    },
    {
      "cell_type": "code",
      "metadata": {
        "colab": {
          "base_uri": "https://localhost:8080/"
        },
        "id": "Fen4AsV8Lsd9",
        "outputId": "ff0ee2d5-1872-462b-8ffa-f86cc7fb5173"
      },
      "source": [
        "#...continues\n",
        "np.char.lower(c)"
      ],
      "execution_count": 51,
      "outputs": [
        {
          "output_type": "execute_result",
          "data": {
            "text/plain": [
              "array(['a1b c', '1bca', 'bca1'], dtype='<U5')"
            ]
          },
          "metadata": {
            "tags": []
          },
          "execution_count": 51
        }
      ]
    },
    {
      "cell_type": "code",
      "metadata": {
        "colab": {
          "base_uri": "https://localhost:8080/"
        },
        "id": "c5j0kO64Lsd9",
        "outputId": "62baa5ea-0cde-459e-a51f-95e28f121796"
      },
      "source": [
        "#Method 28. upper. Return an array with the elements converted to upper.\n",
        "c = np.array(['a1b c', '1bca', 'bca1'])\n",
        "c"
      ],
      "execution_count": 52,
      "outputs": [
        {
          "output_type": "execute_result",
          "data": {
            "text/plain": [
              "array(['a1b c', '1bca', 'bca1'], dtype='<U5')"
            ]
          },
          "metadata": {
            "tags": []
          },
          "execution_count": 52
        }
      ]
    },
    {
      "cell_type": "code",
      "metadata": {
        "colab": {
          "base_uri": "https://localhost:8080/"
        },
        "id": "sbqk7dRbLsd-",
        "outputId": "9f2cd987-2f5a-482d-f7b9-2ed8ecb0b29d"
      },
      "source": [
        "#...continues\n",
        "np.char.upper(c)"
      ],
      "execution_count": 53,
      "outputs": [
        {
          "output_type": "execute_result",
          "data": {
            "text/plain": [
              "array(['A1B C', '1BCA', 'BCA1'], dtype='<U5')"
            ]
          },
          "metadata": {
            "tags": []
          },
          "execution_count": 53
        }
      ]
    },
    {
      "cell_type": "code",
      "metadata": {
        "id": "jEj6tFJwLsd-",
        "outputId": "fb3b8f28-6ff6-4203-afeb-59510d136679"
      },
      "source": [
        "#Method 29. count. Returns an array with the number of non-overlapping occurrences of substring sub in the range [start, end].\n",
        "#Calls str.count element-wise.\n",
        "c = np.array(['aAaAaA', '  aA  ', 'abBABba'])\n",
        "c"
      ],
      "execution_count": null,
      "outputs": [
        {
          "output_type": "execute_result",
          "data": {
            "text/plain": [
              "array(['aAaAaA', '  aA  ', 'abBABba'], dtype='<U7')"
            ]
          },
          "metadata": {
            "tags": []
          },
          "execution_count": 45
        }
      ]
    },
    {
      "cell_type": "code",
      "metadata": {
        "colab": {
          "base_uri": "https://localhost:8080/"
        },
        "id": "ohE74jf9Lsd_",
        "outputId": "c3a63611-5494-4c54-89fc-f7cf663b7344"
      },
      "source": [
        "#...continues\n",
        "np.char.count(c, 'aA')"
      ],
      "execution_count": 54,
      "outputs": [
        {
          "output_type": "execute_result",
          "data": {
            "text/plain": [
              "array([0, 0, 0])"
            ]
          },
          "metadata": {
            "tags": []
          },
          "execution_count": 54
        }
      ]
    },
    {
      "cell_type": "code",
      "metadata": {
        "colab": {
          "base_uri": "https://localhost:8080/"
        },
        "id": "N3uEVKnGLseA",
        "outputId": "dbc7ad61-0637-4cba-a92e-987332c2bf81"
      },
      "source": [
        "#Method 30. linspace. This function returns values \n",
        "#between a given range and with a same gap between\n",
        "#consecutive elements.\n",
        "np.linspace(1,2,5)"
      ],
      "execution_count": 55,
      "outputs": [
        {
          "output_type": "execute_result",
          "data": {
            "text/plain": [
              "array([1.  , 1.25, 1.5 , 1.75, 2.  ])"
            ]
          },
          "metadata": {
            "tags": []
          },
          "execution_count": 55
        }
      ]
    },
    {
      "cell_type": "code",
      "metadata": {
        "colab": {
          "base_uri": "https://localhost:8080/"
        },
        "id": "uITa2AkILseA",
        "outputId": "9838a79a-41f3-4def-ca26-dda3650ae585"
      },
      "source": [
        "#Method 31,32,33,34\n",
        "matrix = np.random.randint(1,4,9).reshape(3,3)\n",
        "matrix"
      ],
      "execution_count": 56,
      "outputs": [
        {
          "output_type": "execute_result",
          "data": {
            "text/plain": [
              "array([[1, 3, 2],\n",
              "       [3, 3, 1],\n",
              "       [2, 1, 2]])"
            ]
          },
          "metadata": {
            "tags": []
          },
          "execution_count": 56
        }
      ]
    },
    {
      "cell_type": "code",
      "metadata": {
        "colab": {
          "base_uri": "https://localhost:8080/"
        },
        "id": "EOyH6EgHLseB",
        "outputId": "a6197a9d-a074-43dd-e8f4-971032b45989"
      },
      "source": [
        "np.min(matrix, axis=1) #finds row wise min"
      ],
      "execution_count": 57,
      "outputs": [
        {
          "output_type": "execute_result",
          "data": {
            "text/plain": [
              "array([1, 1, 1])"
            ]
          },
          "metadata": {
            "tags": []
          },
          "execution_count": 57
        }
      ]
    },
    {
      "cell_type": "code",
      "metadata": {
        "colab": {
          "base_uri": "https://localhost:8080/"
        },
        "id": "PdHNF2L5LseC",
        "outputId": "b3377b0c-9461-4ad4-e8d3-5f1c72928383"
      },
      "source": [
        "np.max(matrix, axis=0) #finds col wise max"
      ],
      "execution_count": 59,
      "outputs": [
        {
          "output_type": "execute_result",
          "data": {
            "text/plain": [
              "array([3, 3, 2])"
            ]
          },
          "metadata": {
            "tags": []
          },
          "execution_count": 59
        }
      ]
    },
    {
      "cell_type": "code",
      "metadata": {
        "colab": {
          "base_uri": "https://localhost:8080/"
        },
        "id": "59kdqe_bLseC",
        "outputId": "d9ba4b2c-957d-42bf-9a7c-459e5bf1c073"
      },
      "source": [
        "np.sum(matrix, axis=1) #finds row wise sum"
      ],
      "execution_count": 60,
      "outputs": [
        {
          "output_type": "execute_result",
          "data": {
            "text/plain": [
              "array([6, 7, 5])"
            ]
          },
          "metadata": {
            "tags": []
          },
          "execution_count": 60
        }
      ]
    },
    {
      "cell_type": "code",
      "metadata": {
        "colab": {
          "base_uri": "https://localhost:8080/"
        },
        "id": "tXO5kbEbLseD",
        "outputId": "4224402e-391c-4e07-88db-faf45e5bce9c"
      },
      "source": [
        "np.cumsum(matrix) #finds cumulative sum"
      ],
      "execution_count": 61,
      "outputs": [
        {
          "output_type": "execute_result",
          "data": {
            "text/plain": [
              "array([ 1,  4,  6,  9, 12, 13, 15, 16, 18])"
            ]
          },
          "metadata": {
            "tags": []
          },
          "execution_count": 61
        }
      ]
    },
    {
      "cell_type": "code",
      "metadata": {
        "colab": {
          "base_uri": "https://localhost:8080/"
        },
        "id": "V8nnPYKVLseE",
        "outputId": "c4e21345-5ee6-499f-ca0b-1238fb272f8a"
      },
      "source": [
        "#Method 35. shuffle. shuffle the array elements.\n",
        "np.random.seed(122)\n",
        "arr = np.random.randint(1,21,10)\n",
        "arr"
      ],
      "execution_count": 62,
      "outputs": [
        {
          "output_type": "execute_result",
          "data": {
            "text/plain": [
              "array([16, 11, 13, 17, 13, 16,  3, 16, 11, 10])"
            ]
          },
          "metadata": {
            "tags": []
          },
          "execution_count": 62
        }
      ]
    },
    {
      "cell_type": "code",
      "metadata": {
        "colab": {
          "base_uri": "https://localhost:8080/"
        },
        "id": "gjPKnESALseE",
        "outputId": "45dbaacf-f30c-41d4-cfc8-27e312c7234f"
      },
      "source": [
        "#...continues\n",
        "np.random.shuffle(arr)\n",
        "arr"
      ],
      "execution_count": 63,
      "outputs": [
        {
          "output_type": "execute_result",
          "data": {
            "text/plain": [
              "array([13, 16, 16, 11, 16, 10, 11, 13, 17,  3])"
            ]
          },
          "metadata": {
            "tags": []
          },
          "execution_count": 63
        }
      ]
    },
    {
      "cell_type": "code",
      "metadata": {
        "colab": {
          "base_uri": "https://localhost:8080/"
        },
        "id": "Vk-DAZEULseF",
        "outputId": "404c80c3-30d4-4e5f-df42-6436e15f29e9"
      },
      "source": [
        "#Method 36. unique. displays unique number of the array.\n",
        "np.unique(arr)"
      ],
      "execution_count": 64,
      "outputs": [
        {
          "output_type": "execute_result",
          "data": {
            "text/plain": [
              "array([ 3, 10, 11, 13, 16, 17])"
            ]
          },
          "metadata": {
            "tags": []
          },
          "execution_count": 64
        }
      ]
    },
    {
      "cell_type": "code",
      "metadata": {
        "colab": {
          "base_uri": "https://localhost:8080/"
        },
        "id": "ntQlve9mLseH",
        "outputId": "34b8e27a-595c-4ce3-f9c8-641c4b999ec0"
      },
      "source": [
        "#Method 37. argsort. prints the sorted index value wise ascending\n",
        "one = np.array([1,3,4,2])\n",
        "one.argsort()"
      ],
      "execution_count": 65,
      "outputs": [
        {
          "output_type": "execute_result",
          "data": {
            "text/plain": [
              "array([0, 3, 1, 2])"
            ]
          },
          "metadata": {
            "tags": []
          },
          "execution_count": 65
        }
      ]
    },
    {
      "cell_type": "code",
      "metadata": {
        "colab": {
          "base_uri": "https://localhost:8080/"
        },
        "id": "guqK4IAELseI",
        "outputId": "dfe32191-9044-4f16-8819-1ff350b08a24"
      },
      "source": [
        "#Method 38. where.\n",
        "x = [[1,2,3],[4,5,6],[7,1,0]]\n",
        "arr = np.array(x)\n",
        "arr"
      ],
      "execution_count": 66,
      "outputs": [
        {
          "output_type": "execute_result",
          "data": {
            "text/plain": [
              "array([[1, 2, 3],\n",
              "       [4, 5, 6],\n",
              "       [7, 1, 0]])"
            ]
          },
          "metadata": {
            "tags": []
          },
          "execution_count": 66
        }
      ]
    },
    {
      "cell_type": "code",
      "metadata": {
        "colab": {
          "base_uri": "https://localhost:8080/"
        },
        "id": "AKEFO89RLseJ",
        "outputId": "47549626-900d-44df-a6a4-1b23f9de715e"
      },
      "source": [
        "#...continues\n",
        "np.where(arr > 5)"
      ],
      "execution_count": 67,
      "outputs": [
        {
          "output_type": "execute_result",
          "data": {
            "text/plain": [
              "(array([1, 2]), array([2, 0]))"
            ]
          },
          "metadata": {
            "tags": []
          },
          "execution_count": 67
        }
      ]
    },
    {
      "cell_type": "code",
      "metadata": {
        "colab": {
          "base_uri": "https://localhost:8080/"
        },
        "id": "ZO87MO4GLseJ",
        "outputId": "e43ae1c6-3253-46ae-a932-31e405c5a689"
      },
      "source": [
        "#Method 39. count_nonzero\n",
        "np.count_nonzero(arr)"
      ],
      "execution_count": 68,
      "outputs": [
        {
          "output_type": "execute_result",
          "data": {
            "text/plain": [
              "8"
            ]
          },
          "metadata": {
            "tags": []
          },
          "execution_count": 68
        }
      ]
    },
    {
      "cell_type": "code",
      "metadata": {
        "colab": {
          "base_uri": "https://localhost:8080/"
        },
        "id": "6PqpHMQ8LseK",
        "outputId": "8bc92be6-d556-491e-edee-8a804321e64b"
      },
      "source": [
        "#Method 40. sort. It is used to sort an array\n",
        "a = np.array([[1,4], [3,1]])\n",
        "a"
      ],
      "execution_count": 69,
      "outputs": [
        {
          "output_type": "execute_result",
          "data": {
            "text/plain": [
              "array([[1, 4],\n",
              "       [3, 1]])"
            ]
          },
          "metadata": {
            "tags": []
          },
          "execution_count": 69
        }
      ]
    },
    {
      "cell_type": "code",
      "metadata": {
        "colab": {
          "base_uri": "https://localhost:8080/"
        },
        "id": "RqxqZYHFLseL",
        "outputId": "8796978d-b33b-4411-f924-d9f5c15259e5"
      },
      "source": [
        "#...continues\n",
        "a.sort(axis=1)\n",
        "a"
      ],
      "execution_count": 70,
      "outputs": [
        {
          "output_type": "execute_result",
          "data": {
            "text/plain": [
              "array([[1, 4],\n",
              "       [1, 3]])"
            ]
          },
          "metadata": {
            "tags": []
          },
          "execution_count": 70
        }
      ]
    },
    {
      "cell_type": "code",
      "metadata": {
        "colab": {
          "base_uri": "https://localhost:8080/"
        },
        "id": "wnavKRxvLseM",
        "outputId": "14ce6df5-a572-4063-f9de-18f90735d2bd"
      },
      "source": [
        "#...continues\n",
        "a.sort(axis=0)\n",
        "a"
      ],
      "execution_count": 71,
      "outputs": [
        {
          "output_type": "execute_result",
          "data": {
            "text/plain": [
              "array([[1, 3],\n",
              "       [1, 4]])"
            ]
          },
          "metadata": {
            "tags": []
          },
          "execution_count": 71
        }
      ]
    },
    {
      "cell_type": "code",
      "metadata": {
        "colab": {
          "base_uri": "https://localhost:8080/"
        },
        "id": "KZRsVAY9LseN",
        "outputId": "ed2c33c7-85e5-4b39-c5b3-203c3a4f1888"
      },
      "source": [
        "#Method 41. variance. var.\n",
        "a = np.array([[1, 2], [3, 4]])\n",
        "np.var(a)"
      ],
      "execution_count": 72,
      "outputs": [
        {
          "output_type": "execute_result",
          "data": {
            "text/plain": [
              "1.25"
            ]
          },
          "metadata": {
            "tags": []
          },
          "execution_count": 72
        }
      ]
    },
    {
      "cell_type": "code",
      "metadata": {
        "id": "9-Dz_CT_LseN",
        "outputId": "972dda9a-6bd1-41ea-fccb-3ed4a2066b34"
      },
      "source": [
        "#Method 42. Split. Split an array into \n",
        "#multiple sub-arrays as views into ary.\n",
        "x = np.arange(9.0)\n",
        "np.split(x, 3)"
      ],
      "execution_count": null,
      "outputs": [
        {
          "output_type": "execute_result",
          "data": {
            "text/plain": [
              "[array([0., 1., 2.]), array([3., 4., 5.]), array([6., 7., 8.])]"
            ]
          },
          "metadata": {
            "tags": []
          },
          "execution_count": 64
        }
      ]
    },
    {
      "cell_type": "code",
      "metadata": {
        "colab": {
          "base_uri": "https://localhost:8080/"
        },
        "id": "hfSX8051LseO",
        "outputId": "44adc202-e05b-4157-af1f-948bc4e990af"
      },
      "source": [
        "#...continues\n",
        "x = np.arange(8.0)\n",
        "np.split(x, [3,5,6,10])"
      ],
      "execution_count": 73,
      "outputs": [
        {
          "output_type": "execute_result",
          "data": {
            "text/plain": [
              "[array([0., 1., 2.]),\n",
              " array([3., 4.]),\n",
              " array([5.]),\n",
              " array([6., 7.]),\n",
              " array([], dtype=float64)]"
            ]
          },
          "metadata": {
            "tags": []
          },
          "execution_count": 73
        }
      ]
    },
    {
      "cell_type": "code",
      "metadata": {
        "colab": {
          "base_uri": "https://localhost:8080/"
        },
        "id": "AJCgAs1cLseO",
        "outputId": "5c339748-151a-42ce-ffb3-5d6e348ca5c4"
      },
      "source": [
        "#Method 43. delete. Return a new array with sub-arrays along an axis deleted. For a one dimensional array, this returns those\n",
        "#entries not returned by arr[obj].\n",
        "arr = np.array([[1,2,3,4], [5,6,7,8],[9,10,11,12]])\n",
        "arr"
      ],
      "execution_count": 74,
      "outputs": [
        {
          "output_type": "execute_result",
          "data": {
            "text/plain": [
              "array([[ 1,  2,  3,  4],\n",
              "       [ 5,  6,  7,  8],\n",
              "       [ 9, 10, 11, 12]])"
            ]
          },
          "metadata": {
            "tags": []
          },
          "execution_count": 74
        }
      ]
    },
    {
      "cell_type": "code",
      "metadata": {
        "colab": {
          "base_uri": "https://localhost:8080/"
        },
        "id": "QLjABWlALseP",
        "outputId": "3c9b3753-e60a-439b-c79b-6b241095de37"
      },
      "source": [
        "#...continues\n",
        "np.delete(arr, 1, 0)"
      ],
      "execution_count": 75,
      "outputs": [
        {
          "output_type": "execute_result",
          "data": {
            "text/plain": [
              "array([[ 1,  2,  3,  4],\n",
              "       [ 9, 10, 11, 12]])"
            ]
          },
          "metadata": {
            "tags": []
          },
          "execution_count": 75
        }
      ]
    },
    {
      "cell_type": "code",
      "metadata": {
        "colab": {
          "base_uri": "https://localhost:8080/"
        },
        "id": "AkHOJU-hLseP",
        "outputId": "51cf53cc-9cfc-4738-892b-757c4acb92eb"
      },
      "source": [
        "#Method 44. insert. insert values along the \n",
        "#given axis before the given indices.\n",
        "a = np.array([[1,1],[2,2],[3,3]])\n",
        "a"
      ],
      "execution_count": 76,
      "outputs": [
        {
          "output_type": "execute_result",
          "data": {
            "text/plain": [
              "array([[1, 1],\n",
              "       [2, 2],\n",
              "       [3, 3]])"
            ]
          },
          "metadata": {
            "tags": []
          },
          "execution_count": 76
        }
      ]
    },
    {
      "cell_type": "code",
      "metadata": {
        "colab": {
          "base_uri": "https://localhost:8080/"
        },
        "id": "taD1QP16LseQ",
        "outputId": "716aae12-9b64-485f-db41-bdce5d10f424"
      },
      "source": [
        "#...continues\n",
        "np.insert(a, 1, 5)"
      ],
      "execution_count": 77,
      "outputs": [
        {
          "output_type": "execute_result",
          "data": {
            "text/plain": [
              "array([1, 5, 1, 2, 2, 3, 3])"
            ]
          },
          "metadata": {
            "tags": []
          },
          "execution_count": 77
        }
      ]
    },
    {
      "cell_type": "code",
      "metadata": {
        "colab": {
          "base_uri": "https://localhost:8080/"
        },
        "id": "NedLFY96LseQ",
        "outputId": "5bcaa720-dabd-4903-bea7-ce6bac67f514"
      },
      "source": [
        "#Method 45. fliplr. Flip array in the left/right direction.\n",
        "#Requires the array to at least 2-D.\n",
        "A = np.diag([1.,2.,3.])\n",
        "A"
      ],
      "execution_count": 78,
      "outputs": [
        {
          "output_type": "execute_result",
          "data": {
            "text/plain": [
              "array([[1., 0., 0.],\n",
              "       [0., 2., 0.],\n",
              "       [0., 0., 3.]])"
            ]
          },
          "metadata": {
            "tags": []
          },
          "execution_count": 78
        }
      ]
    },
    {
      "cell_type": "code",
      "metadata": {
        "id": "gcjryFTALseR"
      },
      "source": [
        ""
      ],
      "execution_count": null,
      "outputs": []
    },
    {
      "cell_type": "code",
      "metadata": {
        "colab": {
          "base_uri": "https://localhost:8080/"
        },
        "id": "7z6S9A3_LseR",
        "outputId": "4dadd5b2-903c-4a31-dbc4-c2d34bc12e97"
      },
      "source": [
        "#...continues\n",
        "np.fliplr(A)"
      ],
      "execution_count": 80,
      "outputs": [
        {
          "output_type": "execute_result",
          "data": {
            "text/plain": [
              "array([[0., 0., 1.],\n",
              "       [0., 2., 0.],\n",
              "       [3., 0., 0.]])"
            ]
          },
          "metadata": {
            "tags": []
          },
          "execution_count": 80
        }
      ]
    },
    {
      "cell_type": "code",
      "metadata": {
        "colab": {
          "base_uri": "https://localhost:8080/"
        },
        "id": "yoFbhBkWLseS",
        "outputId": "2661644c-41c5-45ec-818f-f07de2c47c5b"
      },
      "source": [
        "#Method 46. flipud. Flip array in the up/down direction.\n",
        "#Does not require the array to be two-dimensional.\n",
        "A = np.diag([1.0, 2, 3])\n",
        "A"
      ],
      "execution_count": 81,
      "outputs": [
        {
          "output_type": "execute_result",
          "data": {
            "text/plain": [
              "array([[1., 0., 0.],\n",
              "       [0., 2., 0.],\n",
              "       [0., 0., 3.]])"
            ]
          },
          "metadata": {
            "tags": []
          },
          "execution_count": 81
        }
      ]
    },
    {
      "cell_type": "code",
      "metadata": {
        "colab": {
          "base_uri": "https://localhost:8080/"
        },
        "id": "Ku4gjh-yLseS",
        "outputId": "f142525a-a897-4602-ae34-bb1359b1bbae"
      },
      "source": [
        "#...continues\n",
        "np.flipud(A)"
      ],
      "execution_count": 82,
      "outputs": [
        {
          "output_type": "execute_result",
          "data": {
            "text/plain": [
              "array([[0., 0., 3.],\n",
              "       [0., 2., 0.],\n",
              "       [1., 0., 0.]])"
            ]
          },
          "metadata": {
            "tags": []
          },
          "execution_count": 82
        }
      ]
    },
    {
      "cell_type": "code",
      "metadata": {
        "colab": {
          "base_uri": "https://localhost:8080/"
        },
        "id": "nF3MEPN2LseT",
        "outputId": "834a1e45-e34c-4c37-e30a-6db76ae059f9"
      },
      "source": [
        "#Method 47. inner. Inner product of two arrays.\n",
        "a = np.array([1,2,3])\n",
        "b = np.array([0,1,0])\n",
        "np.inner(a, b)"
      ],
      "execution_count": 83,
      "outputs": [
        {
          "output_type": "execute_result",
          "data": {
            "text/plain": [
              "2"
            ]
          },
          "metadata": {
            "tags": []
          },
          "execution_count": 83
        }
      ]
    },
    {
      "cell_type": "code",
      "metadata": {
        "colab": {
          "base_uri": "https://localhost:8080/"
        },
        "id": "qTSp3mGpLseT",
        "outputId": "cf803d7d-735b-4e53-c31f-87f44c836ee6"
      },
      "source": [
        "#Method 48. Return the sum along diagonals of the array.\n",
        "np.trace(np.eye(3))"
      ],
      "execution_count": 84,
      "outputs": [
        {
          "output_type": "execute_result",
          "data": {
            "text/plain": [
              "3.0"
            ]
          },
          "metadata": {
            "tags": []
          },
          "execution_count": 84
        }
      ]
    },
    {
      "cell_type": "code",
      "metadata": {
        "colab": {
          "base_uri": "https://localhost:8080/"
        },
        "id": "-r5ciztkLseT",
        "outputId": "d9657148-7935-410b-9679-beaf3f087efd"
      },
      "source": [
        "#Method 49. reciprocal. Return the reciprocal of the argument, element-wise.\n",
        "#This function is not designed to work with integers.\n",
        "np.reciprocal(2.)"
      ],
      "execution_count": 85,
      "outputs": [
        {
          "output_type": "execute_result",
          "data": {
            "text/plain": [
              "0.5"
            ]
          },
          "metadata": {
            "tags": []
          },
          "execution_count": 85
        }
      ]
    },
    {
      "cell_type": "code",
      "metadata": {
        "colab": {
          "base_uri": "https://localhost:8080/"
        },
        "id": "U3m2WNafLseU",
        "outputId": "6765c431-66c4-415e-d5dd-e0a6a1573514"
      },
      "source": [
        "#Method 50. conjucate. Return the complex conjugate, element-wise.\n",
        "x = np.eye(2) + 1j * np.eye(2)\n",
        "np.conjugate(x)"
      ],
      "execution_count": 86,
      "outputs": [
        {
          "output_type": "execute_result",
          "data": {
            "text/plain": [
              "array([[1.-1.j, 0.-0.j],\n",
              "       [0.-0.j, 1.-1.j]])"
            ]
          },
          "metadata": {
            "tags": []
          },
          "execution_count": 86
        }
      ]
    }
  ]
}